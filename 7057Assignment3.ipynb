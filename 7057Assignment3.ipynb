{
 "cells": [
  {
   "cell_type": "code",
   "execution_count": 1,
   "id": "d29c50e3-86bf-4a1e-af26-ae4f535b2929",
   "metadata": {},
   "outputs": [
    {
     "name": "stdout",
     "output_type": "stream",
     "text": [
      "   Tid Refund Marital Status Taxable Income Cheat\n",
      "0    1    Yes         Single           125K    No\n",
      "1    2     No        Married           100K    No\n",
      "2    3     No         Single            70K    No\n",
      "3    4    Yes        Married           120K    No\n",
      "4    5     No       Divorced            95K   Yes\n",
      "5    6     No        Married            60K    No\n",
      "6    7    Yes       Divorced           220K    No\n",
      "7    8     No         Single            85K   Yes\n",
      "8    9     No        Married            75K    No\n",
      "9   10     No         Single            90K   Yes\n"
     ]
    }
   ],
   "source": [
    "#7057 SHAGUN\n",
    "#ques1 \n",
    "import pandas as pd\n",
    "data = {\n",
    "    \"Tid\": [1, 2, 3, 4, 5, 6, 7, 8, 9, 10],\n",
    "    \"Refund\": [\"Yes\", \"No\", \"No\", \"Yes\", \"No\", \"No\", \"Yes\", \"No\", \"No\", \"No\"],\n",
    "    \"Marital Status\": [\"Single\", \"Married\", \"Single\", \"Married\", \"Divorced\", \"Married\", \"Divorced\", \"Single\", \"Married\", \"Single\"],\n",
    "    \"Taxable Income\": [\"125K\", \"100K\", \"70K\", \"120K\", \"95K\", \"60K\", \"220K\", \"85K\", \"75K\", \"90K\"],\n",
    "    \"Cheat\": [\"No\", \"No\", \"No\", \"No\", \"Yes\", \"No\", \"No\", \"Yes\", \"No\", \"Yes\"]\n",
    "}\n",
    "df = pd.DataFrame(data)\n",
    "print(df)\n"
   ]
  },
  {
   "cell_type": "code",
   "execution_count": 9,
   "id": "d06641d6-9bc3-4a3c-ab66-40359982e3e4",
   "metadata": {},
   "outputs": [
    {
     "name": "stdout",
     "output_type": "stream",
     "text": [
      "locating row 0\n",
      "Tid                    1\n",
      "Refund               Yes\n",
      "Marital Status    Single\n",
      "Taxable Income      125K\n",
      "Cheat                 No\n",
      "Name: 0, dtype: object\n",
      "locating row 4\n",
      "Tid                      5\n",
      "Refund                  No\n",
      "Marital Status    Divorced\n",
      "Taxable Income         95K\n",
      "Cheat                  Yes\n",
      "Name: 4, dtype: object\n",
      "locating row 7\n",
      "Tid                    8\n",
      "Refund                No\n",
      "Marital Status    Single\n",
      "Taxable Income       85K\n",
      "Cheat                Yes\n",
      "Name: 7, dtype: object\n",
      "locating row 8\n",
      "Tid                     9\n",
      "Refund                 No\n",
      "Marital Status    Married\n",
      "Taxable Income        75K\n",
      "Cheat                  No\n",
      "Name: 8, dtype: object\n"
     ]
    }
   ],
   "source": [
    "#ques2\n",
    "print(\"locating row 0\")\n",
    "print(df.loc[0])\n",
    "print(\"locating row 4\")\n",
    "print(df.loc[4])\n",
    "print(\"locating row 7\")\n",
    "print(df.loc[7])\n",
    "print(\"locating row 8\")\n",
    "print(df.loc[8])"
   ]
  },
  {
   "cell_type": "code",
   "execution_count": 23,
   "id": "c72b6686-0d57-4653-bdad-0a80717a106d",
   "metadata": {},
   "outputs": [
    {
     "name": "stdout",
     "output_type": "stream",
     "text": [
      "   Tid Refund Marital Status Taxable Income Cheat\n",
      "3    4    Yes        Married           120K    No\n",
      "4    5     No       Divorced            95K   Yes\n",
      "5    6     No        Married            60K    No\n",
      "6    7    Yes       Divorced           220K    No\n",
      "7    8     No         Single            85K   Yes\n",
      "  Marital Status Taxable Income Cheat\n",
      "4       Divorced            95K   Yes\n",
      "5        Married            60K    No\n",
      "6       Divorced           220K    No\n",
      "7         Single            85K   Yes\n",
      "8        Married            75K    No\n",
      "  Refund Marital Status Taxable Income\n",
      "0    Yes         Single           125K\n",
      "1     No        Married           100K\n",
      "2     No         Single            70K\n",
      "3    Yes        Married           120K\n",
      "4     No       Divorced            95K\n",
      "5     No        Married            60K\n",
      "6    Yes       Divorced           220K\n",
      "7     No         Single            85K\n",
      "8     No        Married            75K\n",
      "9     No         Single            90K\n"
     ]
    }
   ],
   "source": [
    "#ques3\n",
    "#ques3.i)\n",
    "print(df.iloc[3:8])\n",
    "#ques3.ii)\n",
    "print(df.iloc[4:9,2:5])\n",
    "#ques3.iii)\n",
    "print(df.iloc[:,1:4])"
   ]
  },
  {
   "cell_type": "code",
   "execution_count": 80,
   "id": "ae5ddd6d-09a4-4ef4-b73f-3441159f2e79",
   "metadata": {},
   "outputs": [
    {
     "name": "stdout",
     "output_type": "stream",
     "text": [
      "   Id  SepalLengthCm  SepalWidthCm  PetalLengthCm  PetalWidthCm      Species\n",
      "0   1            5.1           3.5            1.4           0.2  Iris-setosa\n",
      "1   2            4.9           3.0            1.4           0.2  Iris-setosa\n",
      "2   3            4.7           3.2            1.3           0.2  Iris-setosa\n",
      "3   4            4.6           3.1            1.5           0.2  Iris-setosa\n",
      "4   5            5.0           3.6            1.4           0.2  Iris-setosa\n"
     ]
    }
   ],
   "source": [
    "#ques4\n",
    "data1=pd.read_csv('iris.csv')\n",
    "df1=pd.DataFrame(data1)\n",
    "print(df1.head())"
   ]
  },
  {
   "cell_type": "code",
   "execution_count": 104,
   "id": "ecd7b8c0-b47e-48ac-9402-c3fa88ae24c6",
   "metadata": {},
   "outputs": [
    {
     "name": "stdout",
     "output_type": "stream",
     "text": [
      "   Id  SepalLengthCm  PetalLengthCm  PetalWidthCm      Species\n",
      "0   1            5.1            1.4           0.2  Iris-setosa\n",
      "1   2            4.9            1.4           0.2  Iris-setosa\n",
      "2   3            4.7            1.3           0.2  Iris-setosa\n",
      "4   5            5.0            1.4           0.2  Iris-setosa\n",
      "5   6            5.4            1.7           0.4  Iris-setosa\n"
     ]
    }
   ],
   "source": [
    "#ques5\n",
    "df1.drop(df1.columns[2],axis=1,inplace=True)\n",
    "df1.drop(3,axis=0,inplace=True)\n",
    "print(df1.head())"
   ]
  },
  {
   "cell_type": "code",
   "execution_count": 128,
   "id": "4ae01bd5-97bf-4b60-8aee-c8a1b0d98e6d",
   "metadata": {},
   "outputs": [
    {
     "name": "stdout",
     "output_type": "stream",
     "text": [
      "   Employee_ID     Name Department  Age  Salary  Years_of_Experience  \\\n",
      "0          101    Alice         HR   29   50000                    4   \n",
      "1          102      Bob         IT   34   70000                    8   \n",
      "2          103  Charlie         IT   41   65000                   10   \n",
      "3          104    Diana  Marketing   28   55000                    3   \n",
      "4          105   Edward      Sales   38   60000                   12   \n",
      "\n",
      "  Joining_Date  Gender  Bonus  Rating  \n",
      "0   2020-03-15  Female   5000     4.5  \n",
      "1   2017-07-19    Male   7000     4.0  \n",
      "2   2013-06-01    Male   6000     3.8  \n",
      "3   2021-02-10  Female   4500     4.7  \n",
      "4   2010-11-25    Male   5000     3.5  \n"
     ]
    }
   ],
   "source": [
    "#ques6\n",
    "data1={\n",
    "    'Employee_ID': [101, 102, 103, 104, 105],\n",
    "    'Name': ['Alice', 'Bob', 'Charlie', 'Diana', 'Edward'],\n",
    "    'Department': ['HR', 'IT', 'IT', 'Marketing', 'Sales'],\n",
    "    'Age': [29, 34, 41, 28, 38],\n",
    "    'Salary': [50000, 70000, 65000, 55000, 60000],\n",
    "    'Years_of_Experience': [4, 8, 10, 3, 12],\n",
    "    'Joining_Date': ['2020-03-15', '2017-07-19', '2013-06-01', '2021-02-10', '2010-11-25'],\n",
    "    'Gender': ['Female', 'Male', 'Male', 'Female', 'Male'],\n",
    "    'Bonus': [5000, 7000, 6000, 4500, 5000],\n",
    "    'Rating': [4.5, 4.0, 3.8, 4.7, 3.5]\n",
    "}\n",
    "df2=pd.DataFrame(data1)\n",
    "print(df2)"
   ]
  },
  {
   "cell_type": "code",
   "execution_count": 120,
   "id": "9b72f1b0-acb3-4c31-80e4-59e04f21add6",
   "metadata": {},
   "outputs": [
    {
     "name": "stdout",
     "output_type": "stream",
     "text": [
      "(5, 10)\n"
     ]
    }
   ],
   "source": [
    "#ques 6.a)\n",
    "print(df2.shape)"
   ]
  },
  {
   "cell_type": "code",
   "execution_count": 122,
   "id": "85923212-0d4b-454f-ba64-477ea7755f32",
   "metadata": {},
   "outputs": [
    {
     "name": "stdout",
     "output_type": "stream",
     "text": [
      "<class 'pandas.core.frame.DataFrame'>\n",
      "RangeIndex: 5 entries, 0 to 4\n",
      "Data columns (total 10 columns):\n",
      " #   Column               Non-Null Count  Dtype  \n",
      "---  ------               --------------  -----  \n",
      " 0   Employee_ID          5 non-null      int64  \n",
      " 1   Name                 5 non-null      object \n",
      " 2   Department           5 non-null      object \n",
      " 3   Age                  5 non-null      int64  \n",
      " 4   Salary               5 non-null      int64  \n",
      " 5   Years_of_Experience  5 non-null      int64  \n",
      " 6   Joining_Date         5 non-null      object \n",
      " 7   Gender               5 non-null      object \n",
      " 8   Bonus                5 non-null      int64  \n",
      " 9   Rating               5 non-null      float64\n",
      "dtypes: float64(1), int64(5), object(4)\n",
      "memory usage: 532.0+ bytes\n",
      "None\n"
     ]
    }
   ],
   "source": [
    "#ques 6.b)\n",
    "print(df2.info())"
   ]
  },
  {
   "cell_type": "code",
   "execution_count": 126,
   "id": "b3f5d5a6-d5c0-40a1-99a7-646a91d5a415",
   "metadata": {},
   "outputs": [
    {
     "name": "stdout",
     "output_type": "stream",
     "text": [
      "       Employee_ID        Age       Salary  Years_of_Experience   Bonus  \\\n",
      "count     5.000000   5.000000      5.00000             5.000000     5.0   \n",
      "mean    103.000000  34.000000  60000.00000             7.400000  5500.0   \n",
      "std       1.581139   5.612486   7905.69415             3.847077  1000.0   \n",
      "min     101.000000  28.000000  50000.00000             3.000000  4500.0   \n",
      "25%     102.000000  29.000000  55000.00000             4.000000  5000.0   \n",
      "50%     103.000000  34.000000  60000.00000             8.000000  5000.0   \n",
      "75%     104.000000  38.000000  65000.00000            10.000000  6000.0   \n",
      "max     105.000000  41.000000  70000.00000            12.000000  7000.0   \n",
      "\n",
      "         Rating  \n",
      "count  5.000000  \n",
      "mean   4.100000  \n",
      "std    0.494975  \n",
      "min    3.500000  \n",
      "25%    3.800000  \n",
      "50%    4.000000  \n",
      "75%    4.500000  \n",
      "max    4.700000  \n"
     ]
    }
   ],
   "source": [
    "#ques6.c)\n",
    "print(df2.describe())"
   ]
  },
  {
   "cell_type": "code",
   "execution_count": 134,
   "id": "9379f549-8192-4598-87d1-92797e547c5e",
   "metadata": {},
   "outputs": [
    {
     "name": "stdout",
     "output_type": "stream",
     "text": [
      "   Employee_ID     Name Department  Age  Salary  Years_of_Experience  \\\n",
      "0          101    Alice         HR   29   50000                    4   \n",
      "1          102      Bob         IT   34   70000                    8   \n",
      "2          103  Charlie         IT   41   65000                   10   \n",
      "3          104    Diana  Marketing   28   55000                    3   \n",
      "4          105   Edward      Sales   38   60000                   12   \n",
      "\n",
      "  Joining_Date  Gender  Bonus  Rating  \n",
      "0   2020-03-15  Female   5000     4.5  \n",
      "1   2017-07-19    Male   7000     4.0  \n",
      "2   2013-06-01    Male   6000     3.8  \n",
      "3   2021-02-10  Female   4500     4.7  \n",
      "4   2010-11-25    Male   5000     3.5  \n",
      "   Employee_ID     Name Department  Age  Salary  Years_of_Experience  \\\n",
      "2          103  Charlie         IT   41   65000                   10   \n",
      "3          104    Diana  Marketing   28   55000                    3   \n",
      "4          105   Edward      Sales   38   60000                   12   \n",
      "\n",
      "  Joining_Date  Gender  Bonus  Rating  \n",
      "2   2013-06-01    Male   6000     3.8  \n",
      "3   2021-02-10  Female   4500     4.7  \n",
      "4   2010-11-25    Male   5000     3.5  \n"
     ]
    }
   ],
   "source": [
    "#ques6.d)\n",
    "print(df2.head(5))\n",
    "print(df2.tail(3))"
   ]
  },
  {
   "cell_type": "code",
   "execution_count": 146,
   "id": "e95a29c9-a3cb-49c5-96b8-e6af070bdca9",
   "metadata": {},
   "outputs": [
    {
     "name": "stdout",
     "output_type": "stream",
     "text": [
      "Average Salary: 60000.0\n",
      "Total Bonus Paid: 27500\n",
      "Youngest Employee's Age: 28\n",
      "Highest Performance Rating: 4.7\n"
     ]
    }
   ],
   "source": [
    "#ques6.e)\n",
    "#i)\n",
    "print(\"Average Salary:\",df2['Salary'].mean())\n",
    "#ii)\n",
    "print(\"Total Bonus Paid:\",df2['Bonus'].sum())\n",
    "#iii)\n",
    "print(\"Youngest Employee's Age:\",df2['Age'].min())\n",
    "#iv)\n",
    "print(\"Highest Performance Rating:\",df2['Rating'].max())"
   ]
  },
  {
   "cell_type": "code",
   "execution_count": 148,
   "id": "4d23f5be-cba8-43dd-8af0-79456ec55c76",
   "metadata": {},
   "outputs": [
    {
     "name": "stdout",
     "output_type": "stream",
     "text": [
      "the sorted dataframe by salary\n",
      "   Employee_ID     Name Department  Age  Salary  Years_of_Experience  \\\n",
      "1          102      Bob         IT   34   70000                    8   \n",
      "2          103  Charlie         IT   41   65000                   10   \n",
      "4          105   Edward      Sales   38   60000                   12   \n",
      "3          104    Diana  Marketing   28   55000                    3   \n",
      "0          101    Alice         HR   29   50000                    4   \n",
      "\n",
      "  Joining_Date  Gender  Bonus  Rating  \n",
      "1   2017-07-19    Male   7000     4.0  \n",
      "2   2013-06-01    Male   6000     3.8  \n",
      "4   2010-11-25    Male   5000     3.5  \n",
      "3   2021-02-10  Female   4500     4.7  \n",
      "0   2020-03-15  Female   5000     4.5  \n"
     ]
    }
   ],
   "source": [
    "#ques6.f)\n",
    "print(\"the sorted dataframe by salary\")\n",
    "print(df2.sort_values(by='Salary',ascending=False))"
   ]
  },
  {
   "cell_type": "code",
   "execution_count": 150,
   "id": "e79b9cbf-13b5-4e13-a20c-947d3e88396d",
   "metadata": {},
   "outputs": [
    {
     "name": "stdout",
     "output_type": "stream",
     "text": [
      "   Employee_ID     Name Department  Age  Salary  Years_of_Experience  \\\n",
      "0          101    Alice         HR   29   50000                    4   \n",
      "1          102      Bob         IT   34   70000                    8   \n",
      "2          103  Charlie         IT   41   65000                   10   \n",
      "3          104    Diana  Marketing   28   55000                    3   \n",
      "4          105   Edward      Sales   38   60000                   12   \n",
      "\n",
      "  Joining_Date  Gender  Bonus  Rating Performance Category  \n",
      "0   2020-03-15  Female   5000     4.5          Outstanding  \n",
      "1   2017-07-19    Male   7000     4.0               Better  \n",
      "2   2013-06-01    Male   6000     3.8                 Good  \n",
      "3   2021-02-10  Female   4500     4.7          Outstanding  \n",
      "4   2010-11-25    Male   5000     3.5                 Good  \n"
     ]
    }
   ],
   "source": [
    "#ques6.g)\n",
    "def category(rating):\n",
    "    if rating >= 4.5:\n",
    "        return \"Outstanding\"\n",
    "    elif rating >= 4.0:\n",
    "        return \"Better\"\n",
    "    else:\n",
    "        return \"Good\"\n",
    "df2['Performance Category']=df2['Rating'].apply(category)\n",
    "print(df2)"
   ]
  },
  {
   "cell_type": "code",
   "execution_count": 154,
   "id": "226a3b78-1e45-425f-a0ff-68a65ccc72ae",
   "metadata": {},
   "outputs": [
    {
     "name": "stdout",
     "output_type": "stream",
     "text": [
      "total missing values Employee_ID             0\n",
      "Name                    0\n",
      "Department              0\n",
      "Age                     0\n",
      "Salary                  0\n",
      "Years_of_Experience     0\n",
      "Joining_Date            0\n",
      "Gender                  0\n",
      "Bonus                   0\n",
      "Rating                  0\n",
      "Performance Category    0\n",
      "dtype: int64\n"
     ]
    }
   ],
   "source": [
    "#ques6.h)\n",
    "print(\"total missing values\",df2.isnull().sum())"
   ]
  },
  {
   "cell_type": "code",
   "execution_count": 156,
   "id": "cea5e5a9-01d7-4edb-bbea-83c2eb2b8f59",
   "metadata": {},
   "outputs": [
    {
     "name": "stdout",
     "output_type": "stream",
     "text": [
      "    ID   Name Department  Age  Salary  Years_of_Experience Joining_Date  \\\n",
      "0  101  Alice         HR   29   50000                    4   2020-03-15   \n",
      "1  102    Bob         IT   34   70000                    8   2017-07-19   \n",
      "\n",
      "   Gender  Bonus  Rating Performance Category  \n",
      "0  Female   5000     4.5          Outstanding  \n",
      "1    Male   7000     4.0               Better  \n"
     ]
    }
   ],
   "source": [
    "#ques6.i)\n",
    "df2.rename(columns={'Employee_ID':'ID'},inplace=True)\n",
    "print(df2.head(2))"
   ]
  },
  {
   "cell_type": "code",
   "execution_count": 164,
   "id": "582dcf04-d15f-499f-864a-f1dbbdd670d4",
   "metadata": {},
   "outputs": [
    {
     "name": "stdout",
     "output_type": "stream",
     "text": [
      "    ID     Name Department  Age  Salary  Years_of_Experience Joining_Date  \\\n",
      "1  102      Bob         IT   34   70000                    8   2017-07-19   \n",
      "2  103  Charlie         IT   41   65000                   10   2013-06-01   \n",
      "4  105   Edward      Sales   38   60000                   12   2010-11-25   \n",
      "\n",
      "  Gender  Bonus  Rating Performance Category  \n",
      "1   Male   7000     4.0               Better  \n",
      "2   Male   6000     3.8                 Good  \n",
      "4   Male   5000     3.5                 Good  \n",
      "    ID     Name Department  Age  Salary  Years_of_Experience Joining_Date  \\\n",
      "1  102      Bob         IT   34   70000                    8   2017-07-19   \n",
      "2  103  Charlie         IT   41   65000                   10   2013-06-01   \n",
      "\n",
      "  Gender  Bonus  Rating Performance Category  \n",
      "1   Male   7000     4.0               Better  \n",
      "2   Male   6000     3.8                 Good  \n"
     ]
    }
   ],
   "source": [
    "#ques6.j)\n",
    "#i)\n",
    "print(df2[df2['Years_of_Experience']>5])\n",
    "#ii)\n",
    "print(df2[df2['Department']=='IT'])"
   ]
  },
  {
   "cell_type": "code",
   "execution_count": 170,
   "id": "9af5757b-a3c2-44c1-bc07-01f00e398b98",
   "metadata": {},
   "outputs": [
    {
     "name": "stdout",
     "output_type": "stream",
     "text": [
      "    ID     Name Department  Age  Salary  Years_of_Experience Joining_Date  \\\n",
      "0  101    Alice         HR   29   50000                    4   2020-03-15   \n",
      "1  102      Bob         IT   34   70000                    8   2017-07-19   \n",
      "2  103  Charlie         IT   41   65000                   10   2013-06-01   \n",
      "3  104    Diana  Marketing   28   55000                    3   2021-02-10   \n",
      "4  105   Edward      Sales   38   60000                   12   2010-11-25   \n",
      "\n",
      "   Gender  Bonus  Rating Performance Category     Tax  Salary after Tax  \n",
      "0  Female   5000     4.5          Outstanding  5000.0           45000.0  \n",
      "1    Male   7000     4.0               Better  7000.0           63000.0  \n",
      "2    Male   6000     3.8                 Good  6500.0           58500.0  \n",
      "3  Female   4500     4.7          Outstanding  5500.0           49500.0  \n",
      "4    Male   5000     3.5                 Good  6000.0           54000.0  \n"
     ]
    }
   ],
   "source": [
    "#ques6.k)\n",
    "df2['Tax']=df2['Salary']*0.1\n",
    "df2['Salary after Tax']=df2['Salary']-df2['Tax']\n",
    "print(df2)"
   ]
  },
  {
   "cell_type": "code",
   "execution_count": 172,
   "id": "39b8c121-37fb-46dc-b206-b95094851a6c",
   "metadata": {},
   "outputs": [
    {
     "name": "stdout",
     "output_type": "stream",
     "text": [
      "New CSV CREATED\n"
     ]
    }
   ],
   "source": [
    "#ques6.l)\n",
    "df2.to_csv('New employees.csv',index=False)\n",
    "print(\"New CSV CREATED\")"
   ]
  }
 ],
 "metadata": {
  "kernelspec": {
   "display_name": "Python [conda env:base] *",
   "language": "python",
   "name": "conda-base-py"
  },
  "language_info": {
   "codemirror_mode": {
    "name": "ipython",
    "version": 3
   },
   "file_extension": ".py",
   "mimetype": "text/x-python",
   "name": "python",
   "nbconvert_exporter": "python",
   "pygments_lexer": "ipython3",
   "version": "3.12.7"
  }
 },
 "nbformat": 4,
 "nbformat_minor": 5
}
