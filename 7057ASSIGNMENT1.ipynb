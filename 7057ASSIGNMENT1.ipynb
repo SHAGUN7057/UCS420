{
 "cells": [
  {
   "cell_type": "code",
   "execution_count": 1,
   "id": "ef87ed14-0556-4a86-b2b7-032766f0318b",
   "metadata": {},
   "outputs": [
    {
     "name": "stdout",
     "output_type": "stream",
     "text": [
      "shagun\n",
      "shagun\n",
      "shagun\n"
     ]
    }
   ],
   "source": [
    "#1.1\n",
    "print(\"shagun\")\n",
    "print(\"shagun\")\n",
    "print(\"shagun\")"
   ]
  },
  {
   "cell_type": "code",
   "execution_count": 3,
   "id": "12aab011-d905-4dd4-bcc9-31d680af0d9d",
   "metadata": {},
   "outputs": [
    {
     "name": "stdout",
     "output_type": "stream",
     "text": [
      "sum of 3 no is 100\n",
      "sum of 3 strings is shagun digani\n"
     ]
    }
   ],
   "source": [
    "#2.1\n",
    "a=90\n",
    "b=2\n",
    "c=8\n",
    "d=a+b+c\n",
    "print(\"sum of 3 no is\",d)\n",
    "#2.2\n",
    "str1=\"shagun\"\n",
    "str2=\" \"\n",
    "str3=\"digani\"\n",
    "result=str1+str2+str3\n",
    "print(\"sum of 3 strings is\",result)"
   ]
  },
  {
   "cell_type": "code",
   "execution_count": 5,
   "id": "07dbffda-ab5d-424e-b115-6265fea79e0d",
   "metadata": {},
   "outputs": [
    {
     "name": "stdout",
     "output_type": "stream",
     "text": [
      "TABLE OF 7\n",
      "7 * 1 = 7\n",
      "7 * 2 = 14\n",
      "7 * 3 = 21\n",
      "7 * 4 = 28\n",
      "7 * 5 = 35\n",
      "7 * 6 = 42\n",
      "7 * 7 = 49\n",
      "7 * 8 = 56\n",
      "7 * 9 = 63\n",
      "7 * 10 = 70\n",
      "TABLE OF 9\n",
      "9 * 1 = 9\n",
      "9 * 2 = 18\n",
      "9 * 3 = 27\n",
      "9 * 4 = 36\n",
      "9 * 5 = 45\n",
      "9 * 6 = 54\n",
      "9 * 7 = 63\n",
      "9 * 8 = 72\n",
      "9 * 9 = 81\n",
      "9 * 10 = 90\n"
     ]
    },
    {
     "name": "stdin",
     "output_type": "stream",
     "text": [
      "enter no 8\n"
     ]
    },
    {
     "name": "stdout",
     "output_type": "stream",
     "text": [
      "8 * 1 = 8\n",
      "8 * 2 = 16\n",
      "8 * 3 = 24\n",
      "8 * 4 = 32\n",
      "8 * 5 = 40\n",
      "8 * 6 = 48\n",
      "8 * 7 = 56\n",
      "8 * 8 = 64\n",
      "8 * 9 = 72\n",
      "8 * 10 = 80\n"
     ]
    },
    {
     "name": "stdin",
     "output_type": "stream",
     "text": [
      "enter no 5\n"
     ]
    },
    {
     "name": "stdout",
     "output_type": "stream",
     "text": [
      "sum of first 5 numbers is 15\n"
     ]
    }
   ],
   "source": [
    "#4.1 table of 7 and 9\n",
    "print(\"TABLE OF 7\")\n",
    "for i in range(1,11):\n",
    "  print(\"7\", \"*\",i,\"=\",7*i)\n",
    "print(\"TABLE OF 9\")\n",
    "for i in range(1,11):\n",
    "  print(\"9\", \"*\",i,\"=\",9*i)\n",
    "#4.2 table of n\n",
    "n=int(input(\"enter no\"))\n",
    "for i in range(1,11):\n",
    "  print(n,\"*\",i,\"=\",n*i)\n",
    "#4.3 sum of first n no\n",
    "s=0\n",
    "n=int(input(\"enter no\"))\n",
    "for i in range(1,n+1):\n",
    "  s+=i\n",
    "print(\"sum of first\",n,\"numbers is\",s)\n"
   ]
  },
  {
   "cell_type": "code",
   "execution_count": 9,
   "id": "26d00e7f-c9d9-4d65-b602-b9f5eef83cbc",
   "metadata": {},
   "outputs": [
    {
     "name": "stdin",
     "output_type": "stream",
     "text": [
      "enter 8\n"
     ]
    },
    {
     "name": "stdout",
     "output_type": "stream",
     "text": [
      "not prime\n"
     ]
    }
   ],
   "source": [
    "#prime or not\n",
    "n=int(input(\"enter\"))\n",
    "if n==1:\n",
    "  print(\"neither prime nor composite\")\n",
    "else:\n",
    "  res=True\n",
    "  for i in range(2,n//2+1):\n",
    "    if n % i == 0:\n",
    "      res=False\n",
    "      break\n",
    "\n",
    "  if(res==True):\n",
    "    print(\"prime\")\n",
    "  else:\n",
    "    print(\"not prime\")\n"
   ]
  },
  {
   "cell_type": "code",
   "execution_count": 39,
   "id": "267e7aad-1b68-4351-9e4d-323492d3a0ce",
   "metadata": {},
   "outputs": [
    {
     "name": "stdin",
     "output_type": "stream",
     "text": [
      "enter no 5\n",
      "enter no 3\n",
      "enter no 7\n"
     ]
    },
    {
     "name": "stdout",
     "output_type": "stream",
     "text": [
      "7\n"
     ]
    },
    {
     "name": "stdin",
     "output_type": "stream",
     "text": [
      "enter desired no 2\n"
     ]
    },
    {
     "name": "stdout",
     "output_type": "stream",
     "text": [
      "0\n"
     ]
    },
    {
     "name": "stdin",
     "output_type": "stream",
     "text": [
      "enter desired no 7\n"
     ]
    },
    {
     "name": "stdout",
     "output_type": "stream",
     "text": [
      "17\n"
     ]
    }
   ],
   "source": [
    "#5.1\n",
    "n1=int(input(\"enter no\"))\n",
    "n2=int(input(\"enter no\"))\n",
    "n3=int(input(\"enter no\"))\n",
    "print(max(n1,n2,n3))\n",
    "#5.2\n",
    "n=int(input(\"enter desired no\"))\n",
    "sum=0\n",
    "for i in range(1,n+1):\n",
    "    if(i % 63 ==0):\n",
    "        sum+=i\n",
    "print(sum)\n",
    "#5.3\n",
    "n=int(input(\"enter desired no\"))\n",
    "sum=0\n",
    "for i in range(2,n+1):\n",
    "    res=1\n",
    "    for j in range(2,i//2+1):\n",
    "        if (i%j == 0):\n",
    "            res=0\n",
    "            break\n",
    "    if(res==1):\n",
    "        sum+=i\n",
    "print(sum)            \n"
   ]
  },
  {
   "cell_type": "code",
   "execution_count": 80,
   "id": "6ac8e29e-3d07-4df0-a2b0-053c1fdb3a57",
   "metadata": {},
   "outputs": [
    {
     "name": "stdin",
     "output_type": "stream",
     "text": [
      "enter 5\n"
     ]
    },
    {
     "name": "stdout",
     "output_type": "stream",
     "text": [
      "9\n"
     ]
    },
    {
     "name": "stdin",
     "output_type": "stream",
     "text": [
      "enter 10\n"
     ]
    },
    {
     "name": "stdout",
     "output_type": "stream",
     "text": [
      "17\n"
     ]
    }
   ],
   "source": [
    "#6.1\n",
    "def addodd(n):\n",
    "    sum=0\n",
    "    for i in range(1,n+1):\n",
    "        if(i % 2 !=0):\n",
    "            sum+=i\n",
    "    return sum\n",
    "n1=int(input(\"enter\"))\n",
    "print(addodd(n1))\n",
    "#6.2\n",
    "def addprime(n):\n",
    "    sum=0\n",
    "    for i in range(2,n+1):\n",
    "        res=1\n",
    "        for j in range(2,i//2 + 1):\n",
    "            if(i %j ==0):\n",
    "                res=0\n",
    "                break\n",
    "        if(res==1):\n",
    "            sum+=i\n",
    "    return sum\n",
    "n=int(input(\"enter\"))\n",
    "print(addprime(n))"
   ]
  },
  {
   "cell_type": "code",
   "execution_count": null,
   "id": "d3b9c7ed-efda-48af-bf1e-3231f1631f04",
   "metadata": {},
   "outputs": [],
   "source": [
    "\n"
   ]
  },
  {
   "cell_type": "code",
   "execution_count": null,
   "id": "6e1691e2-87cb-42e4-989b-c11f62c6f3a9",
   "metadata": {},
   "outputs": [],
   "source": []
  }
 ],
 "metadata": {
  "kernelspec": {
   "display_name": "Python [conda env:base] *",
   "language": "python",
   "name": "conda-base-py"
  },
  "language_info": {
   "codemirror_mode": {
    "name": "ipython",
    "version": 3
   },
   "file_extension": ".py",
   "mimetype": "text/x-python",
   "name": "python",
   "nbconvert_exporter": "python",
   "pygments_lexer": "ipython3",
   "version": "3.12.7"
  }
 },
 "nbformat": 4,
 "nbformat_minor": 5
}
