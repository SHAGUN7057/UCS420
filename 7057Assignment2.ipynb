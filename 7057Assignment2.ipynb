{
 "cells": [
  {
   "cell_type": "code",
   "execution_count": 11,
   "id": "4d5ccad5-2e5c-4281-8141-4d7c8dacd5ba",
   "metadata": {},
   "outputs": [
    {
     "name": "stdout",
     "output_type": "stream",
     "text": [
      "[10, 20, 30, 40, 50, 60, 70, 80, 200, 300]\n",
      "[20, 40, 50, 60, 70, 80, 200, 300]\n",
      "[20, 40, 50, 60, 70, 80, 200, 300]\n",
      "[300, 200, 80, 70, 60, 50, 40, 20]\n"
     ]
    }
   ],
   "source": [
    "#ques 1\n",
    "L=[10,20,30,40,50,60,70,80]\n",
    "#1.i)\n",
    "L.extend([200,300])\n",
    "print(L)\n",
    "#1.ii)\n",
    "L.remove(10)\n",
    "L.remove(30)\n",
    "print(L)\n",
    "#1.iii)\n",
    "L.sort()\n",
    "print(L)\n",
    "#1.iv)\n",
    "L.reverse()\n",
    "print(L)\n"
   ]
  },
  {
   "cell_type": "code",
   "execution_count": 31,
   "id": "d1891c10-3c90-4438-a5dd-0006e83cc6ad",
   "metadata": {},
   "outputs": [
    {
     "name": "stdout",
     "output_type": "stream",
     "text": [
      "92 max element found at index 5\n",
      "min element appeared 2 times\n",
      "[45, 58, 92, 89, 45.4, 76, 89.5, 45]\n"
     ]
    },
    {
     "name": "stdin",
     "output_type": "stream",
     "text": [
      "enter no 76\n"
     ]
    },
    {
     "name": "stdout",
     "output_type": "stream",
     "text": [
      "2\n"
     ]
    }
   ],
   "source": [
    "# ques2\n",
    "scores=(45,89.5,76,45.4,89,92,58,45)\n",
    "#2.i)\n",
    "c=max(scores)\n",
    "print(c,\"max element found at index\",scores.index(c))\n",
    "#2.ii)\n",
    "d=min(scores)\n",
    "print(\"min element appeared\",scores.count(d),\"times\")\n",
    "#2.iii)\n",
    "print(list(scores[::-1]))\n",
    "#2.iv)\n",
    "n=int(input(\"enter no\"))\n",
    "if(n in scores):\n",
    "    print(scores.index(n))\n",
    "else:\n",
    "    print(\"oops no such element\")\n"
   ]
  },
  {
   "cell_type": "code",
   "execution_count": 49,
   "id": "78b2819d-f7b5-4e00-842e-80e3b8072156",
   "metadata": {},
   "outputs": [
    {
     "name": "stdout",
     "output_type": "stream",
     "text": [
      "[488, 495, 314, 349, 823, 561, 535, 805, 890, 373, 324, 804, 188, 747, 345, 166, 639, 765, 518, 422, 289, 654, 528, 374, 532, 130, 358, 519, 138, 463, 256, 896, 126, 263, 599, 182, 213, 318, 155, 686, 343, 436, 769, 192, 774, 353, 809, 437, 617, 329, 752, 347, 512, 333, 834, 464, 491, 337, 541, 480, 578, 350, 703, 688, 526, 660, 442, 574, 272, 849, 562, 877, 719, 801, 434, 169, 716, 759, 833, 517, 258, 279, 478, 767, 431, 172, 148, 301, 392, 424, 499, 672, 189, 845, 204, 861, 652, 798, 137, 181]\n",
      "total odd no 49\n",
      "[495, 349, 823, 561, 535, 805, 373, 747, 345, 639, 765, 289, 519, 463, 263, 599, 213, 155, 343, 769, 353, 809, 437, 617, 329, 347, 333, 491, 337, 541, 703, 849, 877, 719, 801, 169, 759, 833, 517, 279, 767, 431, 301, 499, 189, 845, 861, 137, 181]\n",
      "total even no 51\n",
      "[488, 314, 890, 324, 804, 188, 166, 518, 422, 654, 528, 374, 532, 130, 358, 138, 256, 896, 126, 182, 318, 686, 436, 192, 774, 752, 512, 834, 464, 480, 578, 350, 688, 526, 660, 442, 574, 272, 562, 434, 716, 258, 478, 172, 148, 392, 424, 672, 204, 652, 798]\n",
      "total prime no 20\n",
      "[349, 823, 373, 463, 263, 599, 769, 353, 809, 617, 347, 491, 337, 541, 877, 719, 431, 499, 137, 181]\n"
     ]
    }
   ],
   "source": [
    "#ques3\n",
    "import random as r\n",
    "L=list(r.sample(range(100,900),100))\n",
    "print(L)\n",
    "#3.i)\n",
    "codd=0\n",
    "Lodd=[]\n",
    "for i in L:\n",
    "    if (i%2 !=0):\n",
    "        codd+=1\n",
    "        Lodd.append(i)\n",
    "print(\"total odd no\",codd) \n",
    "print(Lodd)\n",
    "#3.ii)\n",
    "ceven=0\n",
    "Leven=[]\n",
    "for i in L:\n",
    "    if (i%2 ==0):\n",
    "        ceven+=1\n",
    "        Leven.append(i)\n",
    "print(\"total even no\",ceven) \n",
    "print(Leven)\n",
    "#3.iii)\n",
    "cprime=0\n",
    "Lprime=[]\n",
    "for i in L:\n",
    "    res=1\n",
    "    for j in range(2,i//2+1):\n",
    "        if (i%j==0):\n",
    "            res=0\n",
    "            break\n",
    "    if(res==1):\n",
    "        cprime+=1\n",
    "        Lprime.append(i)\n",
    "print(\"total prime no\",cprime) \n",
    "print(Lprime)\n"
   ]
  },
  {
   "cell_type": "code",
   "execution_count": 69,
   "id": "e0eba32c-5bed-497c-9fcf-2036db9b599d",
   "metadata": {},
   "outputs": [
    {
     "name": "stdout",
     "output_type": "stream",
     "text": [
      "scores achieved by both teams\n",
      "{34, 45, 78, 23, 56, 90}\n",
      "scores common to both teams\n",
      "{90, 78}\n",
      "scores exclusive to team A\n",
      "{56, 34}\n",
      "scores exclusive to team B\n",
      "{45, 23}\n",
      "no, A is not a subset of B\n",
      "B is not supersert of A\n"
     ]
    },
    {
     "name": "stdin",
     "output_type": "stream",
     "text": [
      "enter no to be removed 5\n"
     ]
    },
    {
     "name": "stdout",
     "output_type": "stream",
     "text": [
      "oops element not found\n",
      "{56, 34, 90, 78}\n"
     ]
    }
   ],
   "source": [
    "#ques4\n",
    "A={34,56,78,90}\n",
    "B={78,45,90,23}\n",
    "#4.i)\n",
    "print(\"scores achieved by both teams\")\n",
    "print(A | B)\n",
    "#4.ii)\n",
    "print(\"scores common to both teams\")\n",
    "print (A & B)\n",
    "#4.iii)\n",
    "print(\"scores exclusive to team A\")\n",
    "print(A-B)\n",
    "print(\"scores exclusive to team B\")\n",
    "print(B-A)\n",
    "#4.iv)\n",
    "if(A<=B):\n",
    "    print(\"yes A is subset of B\")\n",
    "else:\n",
    "    print(\"no, A is not a subset of B\")\n",
    "if(B>=A):\n",
    "    print(\"B is a superset of A\")\n",
    "else:\n",
    "    print(\"B is not supersert of A\")\n",
    "#4.v)\n",
    "n=int(input(\"enter no to be removed\"))\n",
    "try:\n",
    "    A.remove(n)\n",
    "except:\n",
    "    print(\"oops element not found\")\n",
    "\n",
    "print(A)"
   ]
  },
  {
   "cell_type": "code",
   "execution_count": 75,
   "id": "45cf93a2-d81d-4249-8454-87fc33149b1d",
   "metadata": {},
   "outputs": [
    {
     "name": "stdout",
     "output_type": "stream",
     "text": [
      "{'name': 'Kelly', 'age': 25, 'salary': 8000, 'location': 'new york'}\n"
     ]
    }
   ],
   "source": [
    "#ques5\n",
    "sample_dict={\"name\": \"Kelly\",\"age\":25,\"salary\":8000,\"city\":\"new york\"}\n",
    "sample_dict[\"location\"]=sample_dict[\"city\"]\n",
    "del sample_dict[\"city\"]\n",
    "print(sample_dict)\n"
   ]
  }
 ],
 "metadata": {
  "kernelspec": {
   "display_name": "Python [conda env:base] *",
   "language": "python",
   "name": "conda-base-py"
  },
  "language_info": {
   "codemirror_mode": {
    "name": "ipython",
    "version": 3
   },
   "file_extension": ".py",
   "mimetype": "text/x-python",
   "name": "python",
   "nbconvert_exporter": "python",
   "pygments_lexer": "ipython3",
   "version": "3.12.7"
  }
 },
 "nbformat": 4,
 "nbformat_minor": 5
}
