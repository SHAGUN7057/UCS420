{
 "cells": [
  {
   "cell_type": "code",
   "execution_count": 1,
   "id": "8b9a6ec8-209f-49e5-9cb9-7f362afb7133",
   "metadata": {},
   "outputs": [],
   "source": [
    "#SHAGUN 102317057\n"
   ]
  },
  {
   "cell_type": "code",
   "execution_count": 23,
   "id": "400bb23e-bf10-4fa2-b6e2-5ff62a76ca38",
   "metadata": {},
   "outputs": [
    {
     "name": "stdout",
     "output_type": "stream",
     "text": [
      "[ 4  6  7  8 14]\n",
      "[ 6 12 15 18 36]\n",
      "[1 2 2 3 6]\n"
     ]
    }
   ],
   "source": [
    "#ques1\n",
    "arr1=np.array([2,4,5,6,12])\n",
    "#1.a)\n",
    "print(arr1+2)\n",
    "#1.b)\n",
    "print(arr1*3)\n",
    "#1.c)\n",
    "print(arr1//2)"
   ]
  },
  {
   "cell_type": "code",
   "execution_count": 27,
   "id": "f04ba93a-511d-4b5e-bc29-b0d717f08204",
   "metadata": {},
   "outputs": [
    {
     "name": "stdout",
     "output_type": "stream",
     "text": [
      "[5 4 6 3 2 1]\n",
      "For array x:\n",
      "Most frequent value = 1, Indices = [0 5 7 8 9]\n",
      "\n",
      "For array y:\n",
      "Most frequent value = 1, Indices = [0 1 2]\n",
      "Most frequent value = 3, Indices = [4 8 9]\n"
     ]
    }
   ],
   "source": [
    "#ques2)\n",
    "#2.a)\n",
    "import numpy as np\n",
    "arr=np.array([1,2,3,6,4,5])\n",
    "arr=arr[::-1]\n",
    "print(arr)\n",
    "#2.b)\n",
    "def most_frequent_values_indices(arr):\n",
    "    unique, counts = np.unique(arr, return_counts=True)  \n",
    "    max_count = np.max(counts) \n",
    "    most_frequent_values = unique[counts == max_count]  \n",
    "    indices_dict = {val: np.where(arr == val)[0] for val in most_frequent_values} \n",
    "    \n",
    "    return indices_dict\n",
    "\n",
    "x = np.array([1, 2, 3, 4, 5, 1, 2, 1, 1, 1])  \n",
    "y = np.array([1, 1, 1, 2, 3, 4, 2, 4, 3, 3]) \n",
    "\n",
    "result_x = most_frequent_values_indices(x)\n",
    "result_y = most_frequent_values_indices(y)\n",
    "\n",
    "print(\"For array x:\")\n",
    "for value, indices in result_x.items():\n",
    "    print(f\"Most frequent value = {value}, Indices = {indices}\")\n",
    "\n",
    "\n",
    "print(\"\\nFor array y:\")\n",
    "for value, indices in result_y.items():\n",
    "    print(f\"Most frequent value = {value}, Indices = {indices}\")\n"
   ]
  },
  {
   "cell_type": "code",
   "execution_count": 29,
   "id": "783462f8-165c-4b34-b464-d459d23bc96f",
   "metadata": {},
   "outputs": [
    {
     "name": "stdout",
     "output_type": "stream",
     "text": [
      "Element at 1st row, 2nd column: 20\n",
      "Element at 3rd row, 1st column: 70\n"
     ]
    }
   ],
   "source": [
    "#ques3)\n",
    "import numpy as np\n",
    "arr = np.array([[10, 20, 30], [40, 50, 60], [70, 80, 90]])\n",
    "\n",
    "a = arr[0, 1] \n",
    "b = arr[2, 0]  \n",
    "\n",
    "print(\"Element at 1st row, 2nd column:\",a)\n",
    "print(\"Element at 3rd row, 1st column:\",b)\n"
   ]
  },
  {
   "cell_type": "code",
   "execution_count": 31,
   "id": "ef30cf1d-1fcb-4ea4-aedc-d6da5c6f1b3f",
   "metadata": {},
   "outputs": [
    {
     "name": "stdout",
     "output_type": "stream",
     "text": [
      "Array: [ 10.    13.75  17.5   21.25  25.    28.75  32.5   36.25  40.    43.75\n",
      "  47.5   51.25  55.    58.75  62.5   66.25  70.    73.75  77.5   81.25\n",
      "  85.    88.75  92.5   96.25 100.  ]\n",
      "Dimensions of array: 1\n",
      "Shape of array: (25,)\n",
      "Total elements in array: 25\n",
      "Data type of each element: float64\n",
      "Total bytes consumed by the array: 200\n",
      "\n",
      "Transpose using reshape():\n",
      " [[ 10.  ]\n",
      " [ 13.75]\n",
      " [ 17.5 ]\n",
      " [ 21.25]\n",
      " [ 25.  ]\n",
      " [ 28.75]\n",
      " [ 32.5 ]\n",
      " [ 36.25]\n",
      " [ 40.  ]\n",
      " [ 43.75]\n",
      " [ 47.5 ]\n",
      " [ 51.25]\n",
      " [ 55.  ]\n",
      " [ 58.75]\n",
      " [ 62.5 ]\n",
      " [ 66.25]\n",
      " [ 70.  ]\n",
      " [ 73.75]\n",
      " [ 77.5 ]\n",
      " [ 81.25]\n",
      " [ 85.  ]\n",
      " [ 88.75]\n",
      " [ 92.5 ]\n",
      " [ 96.25]\n",
      " [100.  ]]\n",
      "\n",
      "Transpose using T attribute:\n",
      " [ 10.    13.75  17.5   21.25  25.    28.75  32.5   36.25  40.    43.75\n",
      "  47.5   51.25  55.    58.75  62.5   66.25  70.    73.75  77.5   81.25\n",
      "  85.    88.75  92.5   96.25 100.  ]\n"
     ]
    }
   ],
   "source": [
    "#ques4)\n",
    "import numpy as np\n",
    "shagun = np.linspace(10, 100, 25)\n",
    "\n",
    "print(\"Array:\", shagun)\n",
    "print(\"Dimensions of array:\", shagun.ndim)\n",
    "print(\"Shape of array:\", shagun.shape)\n",
    "print(\"Total elements in array:\", shagun.size)\n",
    "print(\"Data type of each element:\", shagun.dtype)\n",
    "print(\"Total bytes consumed by the array:\", shagun.nbytes)\n",
    "\n",
    "transpose_array = shagun.reshape(25, 1)\n",
    "print(\"\\nTranspose using reshape():\\n\", transpose_array)\n",
    "\n",
    "print(\"\\nTranspose using T attribute:\\n\", shagun.T) \n"
   ]
  },
  {
   "cell_type": "code",
   "execution_count": null,
   "id": "46dd8e50-0dae-4f4d-ada8-4d3d9b51d85c",
   "metadata": {},
   "outputs": [],
   "source": [
    "#ques5)\n",
    "import numpy as np\n",
    "\n",
    "ucs420_shagun = np.array([[10, 20, 30, 40], \n",
    "                            [50, 60, 70, 80], \n",
    "                            [90, 15, 20, 35]])\n",
    "\n",
    "mean_value = np.mean(ucs420_shagun)      \n",
    "median_value = np.median(ucs420_shagun)  \n",
    "max_value = np.max(ucs420_shagun)        \n",
    "min_value = np.min(ucs420_shagun)        \n",
    "unique_elements = np.unique(ucs420_shagun)  \n",
    "\n",
    "reshaped_ucs420_shagun = ucs420_yourname.reshape(4, 3)\n",
    "\n",
    "# Resizing to 2 rows and 3 columns (Note: This reduces the number of elements!)\n",
    "resized_ucs420_yourname = np.resize(ucs420_yourname, (2, 3))\n",
    "\n",
    "# Printing results\n",
    "print(\"Original Array (3x4):\\n\", ucs420_yourname)\n",
    "print(\"\\nMean:\", mean_value)\n",
    "print(\"Median:\", median_value)\n",
    "print(\"Maximum:\", max_value)\n",
    "print(\"Minimum:\", min_value)\n",
    "print(\"Unique Elements:\", unique_elements)\n",
    "\n",
    "print(\"\\nReshaped Array (4x3):\\n\", reshaped_ucs420_yourname)\n",
    "print(\"\\nResized Array (2x3):\\n\", resized_ucs420_yourname)\n"
   ]
  }
 ],
 "metadata": {
  "kernelspec": {
   "display_name": "Python [conda env:base] *",
   "language": "python",
   "name": "conda-base-py"
  },
  "language_info": {
   "codemirror_mode": {
    "name": "ipython",
    "version": 3
   },
   "file_extension": ".py",
   "mimetype": "text/x-python",
   "name": "python",
   "nbconvert_exporter": "python",
   "pygments_lexer": "ipython3",
   "version": "3.12.7"
  }
 },
 "nbformat": 4,
 "nbformat_minor": 5
}
